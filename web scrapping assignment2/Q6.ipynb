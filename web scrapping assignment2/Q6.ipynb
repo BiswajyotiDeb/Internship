{
 "cells": [
  {
   "cell_type": "code",
   "execution_count": null,
   "id": "d3d57414",
   "metadata": {},
   "outputs": [],
   "source": [
    "# QUESTION NO-6"
   ]
  },
  {
   "cell_type": "code",
   "execution_count": 1,
   "id": "727a821d",
   "metadata": {},
   "outputs": [],
   "source": [
    "#importing all required libraries\n",
    "from selenium import webdriver\n",
    "import pandas as pd\n",
    "import warnings\n",
    "warnings.filterwarnings('ignore')"
   ]
  },
  {
   "cell_type": "code",
   "execution_count": 2,
   "id": "e19e2724",
   "metadata": {},
   "outputs": [],
   "source": [
    "#connect to web driver\n",
    "driver=webdriver.Chrome(r'C:/Users/BISWAJYOTI/Downloads/chromedriver_win32/chromedriver.exe')"
   ]
  },
  {
   "cell_type": "code",
   "execution_count": 3,
   "id": "b2632cff",
   "metadata": {},
   "outputs": [],
   "source": [
    "url='https://www.flipkart.com/'\n",
    "driver.get(url)"
   ]
  },
  {
   "cell_type": "code",
   "execution_count": 4,
   "id": "6700d32d",
   "metadata": {},
   "outputs": [
    {
     "data": {
      "text/plain": [
       "<selenium.webdriver.remote.webelement.WebElement (session=\"5d7f977747fb813f5910db0ed4592185\", element=\"5b8cd2e8-456c-4ed0-8870-c89ddb3b4c0a\")>"
      ]
     },
     "execution_count": 4,
     "metadata": {},
     "output_type": "execute_result"
    }
   ],
   "source": [
    "#finding element for search\n",
    "search=driver.find_element_by_xpath(\"/html/body/div[1]/div/div[1]/div[1]/div[2]/div[2]/form/div/div/input\")\n",
    "search"
   ]
  },
  {
   "cell_type": "code",
   "execution_count": 5,
   "id": "3c4c8cf3",
   "metadata": {},
   "outputs": [],
   "source": [
    "#write on search bar\n",
    "search.send_keys('sneakers')"
   ]
  },
  {
   "cell_type": "code",
   "execution_count": 6,
   "id": "310f8c39",
   "metadata": {},
   "outputs": [],
   "source": [
    "#clicking search using absolute xpath\n",
    "search_btn=driver.find_element_by_xpath('/html/body/div[1]/div/div[1]/div[1]/div[2]/div[2]/form/div/button')\n",
    "search_btn.click()"
   ]
  },
  {
   "cell_type": "code",
   "execution_count": 8,
   "id": "6d8ce22b",
   "metadata": {},
   "outputs": [],
   "source": [
    "# EXTRACTING BRAND\n",
    "brand=[]\n",
    "for i in range(10):\n",
    "    bd=driver.find_elements_by_xpath('//div[@class=\"_2WkVRV\"]')\n",
    "    for j in bd:\n",
    "        brand.append(j.text)\n",
    "next_button=driver.find_element_by_xpath('/html/body/div[1]/div/div[3]/div[1]/div[2]/div[12]/div/div/nav/a[11]')\n",
    "next_button.click()"
   ]
  },
  {
   "cell_type": "code",
   "execution_count": 9,
   "id": "db5e2658",
   "metadata": {},
   "outputs": [
    {
     "data": {
      "text/plain": [
       "400"
      ]
     },
     "execution_count": 9,
     "metadata": {},
     "output_type": "execute_result"
    }
   ],
   "source": [
    "len(brand)"
   ]
  },
  {
   "cell_type": "code",
   "execution_count": 30,
   "id": "bf0cc496",
   "metadata": {},
   "outputs": [
    {
     "data": {
      "text/plain": [
       "['Chevit',\n",
       " 'Magnolia',\n",
       " 'corsac',\n",
       " 'D-SNEAKERZ',\n",
       " 'World Wear Footwear',\n",
       " 'KWIK FIT',\n",
       " 'BRUTON',\n",
       " 'luxury fashion',\n",
       " 'Kraasa',\n",
       " 'URBANBOX']"
      ]
     },
     "execution_count": 30,
     "metadata": {},
     "output_type": "execute_result"
    }
   ],
   "source": [
    "brand[:10]"
   ]
  },
  {
   "cell_type": "code",
   "execution_count": 23,
   "id": "cde434eb",
   "metadata": {},
   "outputs": [],
   "source": [
    "# EXTRACTING DESCRIPTION\n",
    "description=[]\n",
    "for i in range(10):\n",
    "    desc=driver.find_elements_by_xpath('//div[@class=\"_2B099V\"]')\n",
    "    for j in desc:\n",
    "        description.append(j.text.strip().split('\\n')[1])\n",
    "next_button=driver.find_element_by_xpath('/html/body/div[1]/div/div[3]/div[1]/div[2]/div[12]/div/div/nav/a[11]')\n",
    "next_button.click()"
   ]
  },
  {
   "cell_type": "code",
   "execution_count": 24,
   "id": "b1083082",
   "metadata": {},
   "outputs": [
    {
     "data": {
      "text/plain": [
       "400"
      ]
     },
     "execution_count": 24,
     "metadata": {},
     "output_type": "execute_result"
    }
   ],
   "source": [
    "len(description)"
   ]
  },
  {
   "cell_type": "code",
   "execution_count": 29,
   "id": "ca4bad28",
   "metadata": {},
   "outputs": [
    {
     "data": {
      "text/plain": [
       "['Super Stylish & Trendy Combo Pack of 02 Pairs Sneakers ...',\n",
       " 'Sneakers For Men',\n",
       " 'STYLISH MENS BLACK SNEAKER Sneakers For Men',\n",
       " \"Casual , Partywear Sneakers Shoes For Men's And Boys Wh...\",\n",
       " '5011-Latest Collection Stylish Casual Loafer Sneakers S...',\n",
       " 'Kwik FIT casual sneaker shoes and partywear shoes Casua...',\n",
       " 'Modern Trendy Sneakers Shoes Sneakers For Men',\n",
       " 'Luxury Fashionable casual sneaker shoes Sneakers For Me...',\n",
       " 'Series 7 Sneakers For Men',\n",
       " 'Sneakers Sneakers For Men']"
      ]
     },
     "execution_count": 29,
     "metadata": {},
     "output_type": "execute_result"
    }
   ],
   "source": [
    "description[:10]"
   ]
  },
  {
   "cell_type": "code",
   "execution_count": 31,
   "id": "5a8d09de",
   "metadata": {},
   "outputs": [],
   "source": [
    "# EXTRACTING PRICE\n",
    "price=[]\n",
    "for i in range(10):\n",
    "    pr=driver.find_elements_by_xpath('//div[@class=\"_30jeq3\"]')\n",
    "    for j in pr:\n",
    "        price.append(j.text)\n",
    "next_button=driver.find_element_by_xpath('/html/body/div[1]/div/div[3]/div[1]/div[2]/div[12]/div/div/nav/a[11]')\n",
    "next_button.click()"
   ]
  },
  {
   "cell_type": "code",
   "execution_count": 32,
   "id": "70722391",
   "metadata": {},
   "outputs": [
    {
     "data": {
      "text/plain": [
       "400"
      ]
     },
     "execution_count": 32,
     "metadata": {},
     "output_type": "execute_result"
    }
   ],
   "source": [
    "len(price)"
   ]
  },
  {
   "cell_type": "code",
   "execution_count": 33,
   "id": "a99930a9",
   "metadata": {},
   "outputs": [
    {
     "data": {
      "text/plain": [
       "['₹2,549',\n",
       " '₹349',\n",
       " '₹501',\n",
       " '₹327',\n",
       " '₹424',\n",
       " '₹249',\n",
       " '₹149',\n",
       " '₹449',\n",
       " '₹349',\n",
       " '₹209']"
      ]
     },
     "execution_count": 33,
     "metadata": {},
     "output_type": "execute_result"
    }
   ],
   "source": [
    "price[:10]"
   ]
  },
  {
   "cell_type": "code",
   "execution_count": 34,
   "id": "e133fb04",
   "metadata": {},
   "outputs": [],
   "source": [
    "# EXTRACTING DISCOUNT\n",
    "discount=[]\n",
    "for i in range(10):\n",
    "    disc=driver.find_elements_by_xpath('//div[@class=\"_3Ay6Sb\"]')\n",
    "    for j in disc:\n",
    "        discount.append(j.text)\n",
    "next_button=driver.find_element_by_xpath('/html/body/div[1]/div/div[3]/div[1]/div[2]/div[12]/div/div/nav/a[11]')\n",
    "next_button.click()"
   ]
  },
  {
   "cell_type": "code",
   "execution_count": 35,
   "id": "2e33932e",
   "metadata": {},
   "outputs": [
    {
     "data": {
      "text/plain": [
       "400"
      ]
     },
     "execution_count": 35,
     "metadata": {},
     "output_type": "execute_result"
    }
   ],
   "source": [
    "len(discount)"
   ]
  },
  {
   "cell_type": "code",
   "execution_count": 36,
   "id": "fe5706e5",
   "metadata": {},
   "outputs": [
    {
     "data": {
      "text/plain": [
       "['42% off',\n",
       " '65% off',\n",
       " '68% off',\n",
       " '67% off',\n",
       " '71% off',\n",
       " '62% off',\n",
       " '70% off',\n",
       " '60% off',\n",
       " '82% off',\n",
       " '83% off']"
      ]
     },
     "execution_count": 36,
     "metadata": {},
     "output_type": "execute_result"
    }
   ],
   "source": [
    "discount[:10]"
   ]
  },
  {
   "cell_type": "code",
   "execution_count": 37,
   "id": "d60387dd",
   "metadata": {},
   "outputs": [],
   "source": [
    "#creating a dataframe\n",
    "sneaker=pd.DataFrame()\n",
    "sneaker['Brand']=brand[:100]\n",
    "sneaker['Price']=price[:100]\n",
    "sneaker['Description']=description[:100]\n",
    "sneaker['Discount']=discount[:100]\n"
   ]
  },
  {
   "cell_type": "code",
   "execution_count": 38,
   "id": "72e37f20",
   "metadata": {},
   "outputs": [
    {
     "data": {
      "text/html": [
       "<div>\n",
       "<style scoped>\n",
       "    .dataframe tbody tr th:only-of-type {\n",
       "        vertical-align: middle;\n",
       "    }\n",
       "\n",
       "    .dataframe tbody tr th {\n",
       "        vertical-align: top;\n",
       "    }\n",
       "\n",
       "    .dataframe thead th {\n",
       "        text-align: right;\n",
       "    }\n",
       "</style>\n",
       "<table border=\"1\" class=\"dataframe\">\n",
       "  <thead>\n",
       "    <tr style=\"text-align: right;\">\n",
       "      <th></th>\n",
       "      <th>Brand</th>\n",
       "      <th>Price</th>\n",
       "      <th>Description</th>\n",
       "      <th>Discount</th>\n",
       "    </tr>\n",
       "  </thead>\n",
       "  <tbody>\n",
       "    <tr>\n",
       "      <th>0</th>\n",
       "      <td>Chevit</td>\n",
       "      <td>₹2,549</td>\n",
       "      <td>Super Stylish &amp; Trendy Combo Pack of 02 Pairs ...</td>\n",
       "      <td>42% off</td>\n",
       "    </tr>\n",
       "    <tr>\n",
       "      <th>1</th>\n",
       "      <td>Magnolia</td>\n",
       "      <td>₹349</td>\n",
       "      <td>Sneakers For Men</td>\n",
       "      <td>65% off</td>\n",
       "    </tr>\n",
       "    <tr>\n",
       "      <th>2</th>\n",
       "      <td>corsac</td>\n",
       "      <td>₹501</td>\n",
       "      <td>STYLISH MENS BLACK SNEAKER Sneakers For Men</td>\n",
       "      <td>68% off</td>\n",
       "    </tr>\n",
       "    <tr>\n",
       "      <th>3</th>\n",
       "      <td>D-SNEAKERZ</td>\n",
       "      <td>₹327</td>\n",
       "      <td>Casual , Partywear Sneakers Shoes For Men's An...</td>\n",
       "      <td>67% off</td>\n",
       "    </tr>\n",
       "    <tr>\n",
       "      <th>4</th>\n",
       "      <td>World Wear Footwear</td>\n",
       "      <td>₹424</td>\n",
       "      <td>5011-Latest Collection Stylish Casual Loafer S...</td>\n",
       "      <td>71% off</td>\n",
       "    </tr>\n",
       "    <tr>\n",
       "      <th>...</th>\n",
       "      <td>...</td>\n",
       "      <td>...</td>\n",
       "      <td>...</td>\n",
       "      <td>...</td>\n",
       "    </tr>\n",
       "    <tr>\n",
       "      <th>95</th>\n",
       "      <td>BRUTON</td>\n",
       "      <td>₹1,380</td>\n",
       "      <td>Modern &amp; Trendy Collection Combo Pack of 02 Sh...</td>\n",
       "      <td>86% off</td>\n",
       "    </tr>\n",
       "    <tr>\n",
       "      <th>96</th>\n",
       "      <td>BRUTON</td>\n",
       "      <td>₹149</td>\n",
       "      <td>Combo Pack Of 4 Casual Shoes Loafer Shoes Snea...</td>\n",
       "      <td>70% off</td>\n",
       "    </tr>\n",
       "    <tr>\n",
       "      <th>97</th>\n",
       "      <td>SCATCHITE</td>\n",
       "      <td>₹248</td>\n",
       "      <td>Sneakers For Men</td>\n",
       "      <td>75% off</td>\n",
       "    </tr>\n",
       "    <tr>\n",
       "      <th>98</th>\n",
       "      <td>CLYMB</td>\n",
       "      <td>₹269</td>\n",
       "      <td>Sneakers For Men</td>\n",
       "      <td>73% off</td>\n",
       "    </tr>\n",
       "    <tr>\n",
       "      <th>99</th>\n",
       "      <td>Elevarse</td>\n",
       "      <td>₹1,649</td>\n",
       "      <td>Sneakers For Men</td>\n",
       "      <td>50% off</td>\n",
       "    </tr>\n",
       "  </tbody>\n",
       "</table>\n",
       "<p>100 rows × 4 columns</p>\n",
       "</div>"
      ],
      "text/plain": [
       "                  Brand   Price  \\\n",
       "0                Chevit  ₹2,549   \n",
       "1              Magnolia    ₹349   \n",
       "2                corsac    ₹501   \n",
       "3            D-SNEAKERZ    ₹327   \n",
       "4   World Wear Footwear    ₹424   \n",
       "..                  ...     ...   \n",
       "95               BRUTON  ₹1,380   \n",
       "96               BRUTON    ₹149   \n",
       "97            SCATCHITE    ₹248   \n",
       "98                CLYMB    ₹269   \n",
       "99             Elevarse  ₹1,649   \n",
       "\n",
       "                                          Description Discount  \n",
       "0   Super Stylish & Trendy Combo Pack of 02 Pairs ...  42% off  \n",
       "1                                    Sneakers For Men  65% off  \n",
       "2         STYLISH MENS BLACK SNEAKER Sneakers For Men  68% off  \n",
       "3   Casual , Partywear Sneakers Shoes For Men's An...  67% off  \n",
       "4   5011-Latest Collection Stylish Casual Loafer S...  71% off  \n",
       "..                                                ...      ...  \n",
       "95  Modern & Trendy Collection Combo Pack of 02 Sh...  86% off  \n",
       "96  Combo Pack Of 4 Casual Shoes Loafer Shoes Snea...  70% off  \n",
       "97                                   Sneakers For Men  75% off  \n",
       "98                                   Sneakers For Men  73% off  \n",
       "99                                   Sneakers For Men  50% off  \n",
       "\n",
       "[100 rows x 4 columns]"
      ]
     },
     "execution_count": 38,
     "metadata": {},
     "output_type": "execute_result"
    }
   ],
   "source": [
    "sneaker"
   ]
  },
  {
   "cell_type": "code",
   "execution_count": null,
   "id": "e37ea579",
   "metadata": {},
   "outputs": [],
   "source": []
  },
  {
   "cell_type": "code",
   "execution_count": null,
   "id": "55dfb5ba",
   "metadata": {},
   "outputs": [],
   "source": []
  },
  {
   "cell_type": "code",
   "execution_count": null,
   "id": "8ac96fe6",
   "metadata": {},
   "outputs": [],
   "source": []
  },
  {
   "cell_type": "code",
   "execution_count": null,
   "id": "b07a6eba",
   "metadata": {},
   "outputs": [],
   "source": []
  },
  {
   "cell_type": "code",
   "execution_count": null,
   "id": "b5b9afa4",
   "metadata": {},
   "outputs": [],
   "source": []
  },
  {
   "cell_type": "code",
   "execution_count": null,
   "id": "02927606",
   "metadata": {},
   "outputs": [],
   "source": []
  },
  {
   "cell_type": "code",
   "execution_count": null,
   "id": "2985ba07",
   "metadata": {},
   "outputs": [],
   "source": []
  },
  {
   "cell_type": "code",
   "execution_count": null,
   "id": "986e65e2",
   "metadata": {},
   "outputs": [],
   "source": []
  },
  {
   "cell_type": "code",
   "execution_count": null,
   "id": "69396d10",
   "metadata": {},
   "outputs": [],
   "source": []
  },
  {
   "cell_type": "code",
   "execution_count": null,
   "id": "8777532d",
   "metadata": {},
   "outputs": [],
   "source": []
  },
  {
   "cell_type": "code",
   "execution_count": null,
   "id": "e643f8da",
   "metadata": {},
   "outputs": [],
   "source": []
  }
 ],
 "metadata": {
  "kernelspec": {
   "display_name": "Python 3",
   "language": "python",
   "name": "python3"
  },
  "language_info": {
   "codemirror_mode": {
    "name": "ipython",
    "version": 3
   },
   "file_extension": ".py",
   "mimetype": "text/x-python",
   "name": "python",
   "nbconvert_exporter": "python",
   "pygments_lexer": "ipython3",
   "version": "3.8.8"
  }
 },
 "nbformat": 4,
 "nbformat_minor": 5
}
