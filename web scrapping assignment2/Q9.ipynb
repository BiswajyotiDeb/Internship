{
 "cells": [
  {
   "cell_type": "markdown",
   "id": "9aaab5d7",
   "metadata": {},
   "source": [
    "# QUESTION9"
   ]
  },
  {
   "cell_type": "code",
   "execution_count": 1,
   "id": "d17ede90",
   "metadata": {},
   "outputs": [],
   "source": [
    "#importing all required libraries\n",
    "from selenium import webdriver\n",
    "import pandas as pd\n",
    "import warnings\n",
    "warnings.filterwarnings('ignore')"
   ]
  },
  {
   "cell_type": "code",
   "execution_count": 2,
   "id": "4779aae5",
   "metadata": {},
   "outputs": [],
   "source": [
    "#connect to web driver\n",
    "driver=webdriver.Chrome(r'C:/Users/BISWAJYOTI/Downloads/chromedriver_win32/chromedriver.exe')"
   ]
  },
  {
   "cell_type": "code",
   "execution_count": 3,
   "id": "2f6a0a1d",
   "metadata": {},
   "outputs": [],
   "source": [
    "url='http://www.ambitionbox.com/'\n",
    "driver.get(url)"
   ]
  },
  {
   "cell_type": "code",
   "execution_count": 7,
   "id": "c8d79adf",
   "metadata": {},
   "outputs": [],
   "source": [
    "#clicking search using absolute xpath\n",
    "job_btn=driver.find_element_by_xpath('/html/body/div[1]/nav/nav/a[6]')\n",
    "job_btn.click()"
   ]
  },
  {
   "cell_type": "code",
   "execution_count": 14,
   "id": "242615a9",
   "metadata": {},
   "outputs": [
    {
     "data": {
      "text/plain": [
       "<selenium.webdriver.remote.webelement.WebElement (session=\"a490f93f0f5613e2eb7ab29a944ae7a1\", element=\"c35fda31-3dcf-43f2-9ed7-e15917c6b459\")>"
      ]
     },
     "execution_count": 14,
     "metadata": {},
     "output_type": "execute_result"
    }
   ],
   "source": [
    "#finding element for search\n",
    "search=driver.find_element_by_xpath(\"/html/body/div/div/div/div[2]/div[1]/div/div/div/div/span/input\")\n",
    "search"
   ]
  },
  {
   "cell_type": "code",
   "execution_count": 15,
   "id": "c61ea3b1",
   "metadata": {},
   "outputs": [],
   "source": [
    "#write on search bar\n",
    "search.send_keys('Data Scientist')"
   ]
  },
  {
   "cell_type": "code",
   "execution_count": 16,
   "id": "b9ae5062",
   "metadata": {},
   "outputs": [],
   "source": [
    "#clicking search using absolute xpath\n",
    "search_btn=driver.find_element_by_xpath('/html/body/div/div/div/div[2]/div[1]/div/div/div/button')\n",
    "search_btn.click()"
   ]
  },
  {
   "cell_type": "code",
   "execution_count": 20,
   "id": "bab79a8f",
   "metadata": {},
   "outputs": [],
   "source": [
    "#clicking location using absolute xpath\n",
    "location_btn=driver.find_element_by_xpath('/html/body/div/div/div/div[2]/div[2]/div[1]/div/div/div/div[2]/div[1]')\n",
    "location_btn.click()"
   ]
  },
  {
   "cell_type": "code",
   "execution_count": 21,
   "id": "575a2c1e",
   "metadata": {},
   "outputs": [
    {
     "data": {
      "text/plain": [
       "<selenium.webdriver.remote.webelement.WebElement (session=\"a490f93f0f5613e2eb7ab29a944ae7a1\", element=\"1b0ec5dd-0fa2-4b96-94f5-e04c108496a5\")>"
      ]
     },
     "execution_count": 21,
     "metadata": {},
     "output_type": "execute_result"
    }
   ],
   "source": [
    "#finding element for search\n",
    "search_loc=driver.find_element_by_xpath(\"/html/body/div/div/div/div[2]/div[2]/div[1]/div/div/div/div[2]/div[2]/div/div[2]/input\")\n",
    "search_loc"
   ]
  },
  {
   "cell_type": "code",
   "execution_count": 23,
   "id": "d04cc8c5",
   "metadata": {},
   "outputs": [],
   "source": [
    "#write on search bar\n",
    "search_loc.send_keys('Noida')"
   ]
  },
  {
   "cell_type": "code",
   "execution_count": 24,
   "id": "46305317",
   "metadata": {},
   "outputs": [],
   "source": [
    "#clicking search using absolute xpath\n",
    "searchlocbtn=driver.find_element_by_xpath('/html/body/div/div/div/div[2]/div[2]/div[1]/div/div/div/div[2]/div[2]/div/div[3]/div[1]/div[1]/div/label')\n",
    "searchlocbtn.click()"
   ]
  },
  {
   "cell_type": "code",
   "execution_count": 29,
   "id": "0189084a",
   "metadata": {},
   "outputs": [
    {
     "data": {
      "text/plain": [
       "['Excellent Opportunity For Freshers For AI/ML, Data Scientist, BI, QA',\n",
       " \"HCL Hiring Data Scientist (Loc: Noida / Chennai / B'lore)\",\n",
       " 'Data Scientist']"
      ]
     },
     "execution_count": 29,
     "metadata": {},
     "output_type": "execute_result"
    }
   ],
   "source": [
    "# EXTRACTING job title\n",
    "job_title=driver.find_elements_by_xpath('//a[@class=\"title noclick\"]')\n",
    "title=[]\n",
    "for i in job_title:\n",
    "    title.append(i.text)\n",
    "title[0:3]"
   ]
  },
  {
   "cell_type": "code",
   "execution_count": 38,
   "id": "9bad8ef5",
   "metadata": {},
   "outputs": [
    {
     "data": {
      "text/plain": [
       "['NTT DATA GLOBAL DELIVERY SERVICES PRIVATE LIMITED',\n",
       " 'HCL Technologies Limited',\n",
       " 'Optum Global Solutions (India) Private Limited']"
      ]
     },
     "execution_count": 38,
     "metadata": {},
     "output_type": "execute_result"
    }
   ],
   "source": [
    "# EXTRACTING COMPANY NAMES\n",
    "comp=driver.find_elements_by_xpath('//p[@class=\"company body-medium\"]')\n",
    "company=[]\n",
    "for i in comp:\n",
    "    company.append(i.text)\n",
    "company[0:3]"
   ]
  },
  {
   "cell_type": "code",
   "execution_count": 39,
   "id": "9a1c355e",
   "metadata": {},
   "outputs": [],
   "source": [
    "#creating a dataframe\n",
    "job=pd.DataFrame()\n",
    "job['Title']=title[:10]\n",
    "job['Company name']=company[:10]"
   ]
  },
  {
   "cell_type": "code",
   "execution_count": 40,
   "id": "2311afe6",
   "metadata": {},
   "outputs": [
    {
     "data": {
      "text/html": [
       "<div>\n",
       "<style scoped>\n",
       "    .dataframe tbody tr th:only-of-type {\n",
       "        vertical-align: middle;\n",
       "    }\n",
       "\n",
       "    .dataframe tbody tr th {\n",
       "        vertical-align: top;\n",
       "    }\n",
       "\n",
       "    .dataframe thead th {\n",
       "        text-align: right;\n",
       "    }\n",
       "</style>\n",
       "<table border=\"1\" class=\"dataframe\">\n",
       "  <thead>\n",
       "    <tr style=\"text-align: right;\">\n",
       "      <th></th>\n",
       "      <th>Title</th>\n",
       "      <th>Company name</th>\n",
       "    </tr>\n",
       "  </thead>\n",
       "  <tbody>\n",
       "    <tr>\n",
       "      <th>0</th>\n",
       "      <td>Excellent Opportunity For Freshers For AI/ML, ...</td>\n",
       "      <td>NTT DATA GLOBAL DELIVERY SERVICES PRIVATE LIMITED</td>\n",
       "    </tr>\n",
       "    <tr>\n",
       "      <th>1</th>\n",
       "      <td>HCL Hiring Data Scientist (Loc: Noida / Chenna...</td>\n",
       "      <td>HCL Technologies Limited</td>\n",
       "    </tr>\n",
       "    <tr>\n",
       "      <th>2</th>\n",
       "      <td>Data Scientist</td>\n",
       "      <td>Optum Global Solutions (India) Private Limited</td>\n",
       "    </tr>\n",
       "    <tr>\n",
       "      <th>3</th>\n",
       "      <td>Data Scientist</td>\n",
       "      <td>WSP CONSULTANTS INDIA PRIVATE LIMITED</td>\n",
       "    </tr>\n",
       "    <tr>\n",
       "      <th>4</th>\n",
       "      <td>Data Scientist-II</td>\n",
       "      <td>Microsoft India (R and D) Pvt Ltd</td>\n",
       "    </tr>\n",
       "    <tr>\n",
       "      <th>5</th>\n",
       "      <td>HCL Tech Opening - Senior Data Scientist</td>\n",
       "      <td>HCL Technologies Ltd</td>\n",
       "    </tr>\n",
       "    <tr>\n",
       "      <th>6</th>\n",
       "      <td>Data Scientist</td>\n",
       "      <td>Jubilant Foodworks Limited</td>\n",
       "    </tr>\n",
       "    <tr>\n",
       "      <th>7</th>\n",
       "      <td>Urgent Requirement || Data Scientist || Noida</td>\n",
       "      <td>HCL Technologies</td>\n",
       "    </tr>\n",
       "    <tr>\n",
       "      <th>8</th>\n",
       "      <td>Data Scientist with NLP &amp; Python</td>\n",
       "      <td>RATEGAIN TRAVEL TECHNOLOGIES LIMITED</td>\n",
       "    </tr>\n",
       "    <tr>\n",
       "      <th>9</th>\n",
       "      <td>Data Scientist</td>\n",
       "      <td>Hanu Software Solutions Pvt Ltd</td>\n",
       "    </tr>\n",
       "  </tbody>\n",
       "</table>\n",
       "</div>"
      ],
      "text/plain": [
       "                                               Title  \\\n",
       "0  Excellent Opportunity For Freshers For AI/ML, ...   \n",
       "1  HCL Hiring Data Scientist (Loc: Noida / Chenna...   \n",
       "2                                     Data Scientist   \n",
       "3                                     Data Scientist   \n",
       "4                                  Data Scientist-II   \n",
       "5           HCL Tech Opening - Senior Data Scientist   \n",
       "6                                     Data Scientist   \n",
       "7      Urgent Requirement || Data Scientist || Noida   \n",
       "8                   Data Scientist with NLP & Python   \n",
       "9                                     Data Scientist   \n",
       "\n",
       "                                        Company name  \n",
       "0  NTT DATA GLOBAL DELIVERY SERVICES PRIVATE LIMITED  \n",
       "1                           HCL Technologies Limited  \n",
       "2     Optum Global Solutions (India) Private Limited  \n",
       "3              WSP CONSULTANTS INDIA PRIVATE LIMITED  \n",
       "4                  Microsoft India (R and D) Pvt Ltd  \n",
       "5                               HCL Technologies Ltd  \n",
       "6                         Jubilant Foodworks Limited  \n",
       "7                                   HCL Technologies  \n",
       "8               RATEGAIN TRAVEL TECHNOLOGIES LIMITED  \n",
       "9                    Hanu Software Solutions Pvt Ltd  "
      ]
     },
     "execution_count": 40,
     "metadata": {},
     "output_type": "execute_result"
    }
   ],
   "source": [
    "job"
   ]
  },
  {
   "cell_type": "code",
   "execution_count": null,
   "id": "ffa90409",
   "metadata": {},
   "outputs": [],
   "source": []
  },
  {
   "cell_type": "code",
   "execution_count": null,
   "id": "7a280045",
   "metadata": {},
   "outputs": [],
   "source": []
  },
  {
   "cell_type": "code",
   "execution_count": null,
   "id": "90fb52f1",
   "metadata": {},
   "outputs": [],
   "source": []
  },
  {
   "cell_type": "code",
   "execution_count": null,
   "id": "083c0604",
   "metadata": {},
   "outputs": [],
   "source": []
  },
  {
   "cell_type": "code",
   "execution_count": null,
   "id": "fd788ff4",
   "metadata": {},
   "outputs": [],
   "source": []
  },
  {
   "cell_type": "code",
   "execution_count": null,
   "id": "ce216ca1",
   "metadata": {},
   "outputs": [],
   "source": []
  },
  {
   "cell_type": "code",
   "execution_count": null,
   "id": "38476d77",
   "metadata": {},
   "outputs": [],
   "source": []
  },
  {
   "cell_type": "code",
   "execution_count": null,
   "id": "bb58b61c",
   "metadata": {},
   "outputs": [],
   "source": []
  },
  {
   "cell_type": "code",
   "execution_count": null,
   "id": "a4f33fb2",
   "metadata": {},
   "outputs": [],
   "source": []
  },
  {
   "cell_type": "code",
   "execution_count": null,
   "id": "a3b7ccae",
   "metadata": {},
   "outputs": [],
   "source": []
  },
  {
   "cell_type": "code",
   "execution_count": null,
   "id": "6fa80421",
   "metadata": {},
   "outputs": [],
   "source": []
  },
  {
   "cell_type": "code",
   "execution_count": null,
   "id": "05ed6f0b",
   "metadata": {},
   "outputs": [],
   "source": []
  },
  {
   "cell_type": "code",
   "execution_count": null,
   "id": "8e46fbcb",
   "metadata": {},
   "outputs": [],
   "source": []
  },
  {
   "cell_type": "code",
   "execution_count": null,
   "id": "03b90297",
   "metadata": {},
   "outputs": [],
   "source": []
  },
  {
   "cell_type": "code",
   "execution_count": null,
   "id": "66d7ceb2",
   "metadata": {},
   "outputs": [],
   "source": []
  },
  {
   "cell_type": "code",
   "execution_count": null,
   "id": "8b54ada6",
   "metadata": {},
   "outputs": [],
   "source": []
  },
  {
   "cell_type": "code",
   "execution_count": null,
   "id": "63f263f5",
   "metadata": {},
   "outputs": [],
   "source": []
  }
 ],
 "metadata": {
  "kernelspec": {
   "display_name": "Python 3",
   "language": "python",
   "name": "python3"
  },
  "language_info": {
   "codemirror_mode": {
    "name": "ipython",
    "version": 3
   },
   "file_extension": ".py",
   "mimetype": "text/x-python",
   "name": "python",
   "nbconvert_exporter": "python",
   "pygments_lexer": "ipython3",
   "version": "3.8.8"
  }
 },
 "nbformat": 4,
 "nbformat_minor": 5
}
