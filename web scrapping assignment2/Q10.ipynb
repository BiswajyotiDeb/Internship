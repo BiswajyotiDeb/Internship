{
 "cells": [
  {
   "cell_type": "markdown",
   "id": "25fbcd4c",
   "metadata": {},
   "source": [
    "# QUESTION-10"
   ]
  },
  {
   "cell_type": "code",
   "execution_count": 1,
   "id": "f8e6ecf1",
   "metadata": {},
   "outputs": [],
   "source": [
    "#importing all required libraries\n",
    "from selenium import webdriver\n",
    "import pandas as pd\n",
    "import warnings\n",
    "warnings.filterwarnings('ignore')\n",
    "from selenium.webdriver.common.keys import Keys\n",
    "import time"
   ]
  },
  {
   "cell_type": "code",
   "execution_count": 2,
   "id": "e2baf818",
   "metadata": {},
   "outputs": [],
   "source": [
    "#connect to web driver\n",
    "driver=webdriver.Chrome(r'C:/Users/BISWAJYOTI/Downloads/chromedriver_win32/chromedriver.exe')"
   ]
  },
  {
   "cell_type": "code",
   "execution_count": 3,
   "id": "94691ea1",
   "metadata": {},
   "outputs": [],
   "source": [
    "url='http://www.ambitionbox.com/'\n",
    "driver.get(url)"
   ]
  },
  {
   "cell_type": "code",
   "execution_count": 4,
   "id": "747ad7e4",
   "metadata": {},
   "outputs": [],
   "source": [
    "#clicking salary using absolute xpath\n",
    "salary_btn=driver.find_element_by_xpath('/html/body/div[1]/nav/nav/a[4]')\n",
    "salary_btn.click()"
   ]
  },
  {
   "cell_type": "code",
   "execution_count": 5,
   "id": "b1080c23",
   "metadata": {},
   "outputs": [
    {
     "data": {
      "text/plain": [
       "<selenium.webdriver.remote.webelement.WebElement (session=\"d84de6cff068b6168bbca179c8d7d5ac\", element=\"988f4904-7df3-4190-a663-5425b26588ca\")>"
      ]
     },
     "execution_count": 5,
     "metadata": {},
     "output_type": "execute_result"
    }
   ],
   "source": [
    "#finding element for search\n",
    "search=driver.find_element_by_xpath(\"/html/body/div/div/div/main/section[1]/div[2]/div[1]/span/input\")\n",
    "search"
   ]
  },
  {
   "cell_type": "code",
   "execution_count": 6,
   "id": "56289017",
   "metadata": {},
   "outputs": [],
   "source": [
    "#write on search bar\n",
    "search.send_keys('Data Scientist')\n",
    "time.sleep(2)"
   ]
  },
  {
   "cell_type": "code",
   "execution_count": 7,
   "id": "2954ec49",
   "metadata": {},
   "outputs": [],
   "source": [
    "search.send_keys(Keys.ARROW_DOWN)\n",
    "time.sleep(2)\n",
    "search.send_keys(Keys.ENTER)\n",
    "time.sleep(2)"
   ]
  },
  {
   "cell_type": "code",
   "execution_count": 8,
   "id": "5f96a73a",
   "metadata": {},
   "outputs": [
    {
     "data": {
      "text/plain": [
       "['Ab Inbev', 'ZS', 'Optum']"
      ]
     },
     "execution_count": 8,
     "metadata": {},
     "output_type": "execute_result"
    }
   ],
   "source": [
    "# EXTRACTING job title\n",
    "job_title=driver.find_elements_by_xpath('//div[@class=\"name\"]')\n",
    "title=[]\n",
    "for i in job_title:\n",
    "    title.append(i.text.strip().split('\\n')[0])\n",
    "title[0:3]"
   ]
  },
  {
   "cell_type": "code",
   "execution_count": 9,
   "id": "bcfc727a",
   "metadata": {},
   "outputs": [
    {
     "data": {
      "text/plain": [
       "['based on 28 salaries', 'based on 15 salaries', 'based on 25 salaries']"
      ]
     },
     "execution_count": 9,
     "metadata": {},
     "output_type": "execute_result"
    }
   ],
   "source": [
    "# EXTRACTING salary record\n",
    "salary=driver.find_elements_by_xpath('//div[@class=\"name\"]')\n",
    "salary_record=[]\n",
    "for i in salary:\n",
    "    salary_record.append(i.text.strip().split('\\n')[1])\n",
    "salary_record[0:3]"
   ]
  },
  {
   "cell_type": "code",
   "execution_count": 10,
   "id": "411a9a12",
   "metadata": {},
   "outputs": [
    {
     "data": {
      "text/plain": [
       "['3-4 yrs exp', '2 yrs exp', '3-4 yrs exp']"
      ]
     },
     "execution_count": 10,
     "metadata": {},
     "output_type": "execute_result"
    }
   ],
   "source": [
    "# EXTRACTING required experience\n",
    "exp=driver.find_elements_by_xpath('//div[@class=\"salaries sbold-list-header\"]')\n",
    "exp_reqd=[]\n",
    "for i in exp:\n",
    "    exp_reqd.append(i.text.strip().split('\\n')[2])\n",
    "exp_reqd[0:3]"
   ]
  },
  {
   "cell_type": "code",
   "execution_count": 11,
   "id": "6ce657ab",
   "metadata": {},
   "outputs": [
    {
     "data": {
      "text/plain": [
       "['₹ 20.3L', '₹ 15.3L', '₹ 15.1L']"
      ]
     },
     "execution_count": 11,
     "metadata": {},
     "output_type": "execute_result"
    }
   ],
   "source": [
    "# EXTRACTING AVG SALARY\n",
    "avg=driver.find_elements_by_xpath('//p[@class=\"averageCtc\"]')\n",
    "avg_sal=[]\n",
    "for i in avg:\n",
    "    avg_sal.append(i.text)\n",
    "avg_sal[0:3]"
   ]
  },
  {
   "cell_type": "code",
   "execution_count": 12,
   "id": "0b75d365",
   "metadata": {},
   "outputs": [
    {
     "data": {
      "text/plain": [
       "['₹ 15.0L', '₹ 9.5L', '₹ 11.0L', '₹ 9.5L']"
      ]
     },
     "execution_count": 12,
     "metadata": {},
     "output_type": "execute_result"
    }
   ],
   "source": [
    "# EXTRACTING min SALARY\n",
    "min=driver.find_elements_by_xpath('//div[@class=\"salary-values\"]')\n",
    "min_sal=[]\n",
    "for i in min:\n",
    "    min_sal.append(i.text.strip().split('\\n')[0])\n",
    "min_sal[0:4]"
   ]
  },
  {
   "cell_type": "code",
   "execution_count": 13,
   "id": "b38a1ce7",
   "metadata": {},
   "outputs": [
    {
     "data": {
      "text/plain": [
       "['₹ 25.5L', '₹ 20.0L', '₹ 21.3L', '₹ 22.0L']"
      ]
     },
     "execution_count": 13,
     "metadata": {},
     "output_type": "execute_result"
    }
   ],
   "source": [
    "# EXTRACTING max SALARY\n",
    "max=driver.find_elements_by_xpath('//div[@class=\"salary-values\"]')\n",
    "max_sal=[]\n",
    "for i in max:\n",
    "    max_sal.append(i.text.strip().split('\\n')[1])\n",
    "max_sal[0:4]"
   ]
  },
  {
   "cell_type": "code",
   "execution_count": 14,
   "id": "26ce936b",
   "metadata": {},
   "outputs": [
    {
     "data": {
      "text/html": [
       "<div>\n",
       "<style scoped>\n",
       "    .dataframe tbody tr th:only-of-type {\n",
       "        vertical-align: middle;\n",
       "    }\n",
       "\n",
       "    .dataframe tbody tr th {\n",
       "        vertical-align: top;\n",
       "    }\n",
       "\n",
       "    .dataframe thead th {\n",
       "        text-align: right;\n",
       "    }\n",
       "</style>\n",
       "<table border=\"1\" class=\"dataframe\">\n",
       "  <thead>\n",
       "    <tr style=\"text-align: right;\">\n",
       "      <th></th>\n",
       "      <th>Company Name</th>\n",
       "      <th>Experience Required</th>\n",
       "      <th>Salary Record</th>\n",
       "      <th>Average Salary</th>\n",
       "      <th>Max Salary</th>\n",
       "      <th>Min Salary</th>\n",
       "    </tr>\n",
       "  </thead>\n",
       "  <tbody>\n",
       "    <tr>\n",
       "      <th>0</th>\n",
       "      <td>Ab Inbev</td>\n",
       "      <td>3-4 yrs exp</td>\n",
       "      <td>based on 28 salaries</td>\n",
       "      <td>₹ 20.3L</td>\n",
       "      <td>₹ 25.5L</td>\n",
       "      <td>₹ 15.0L</td>\n",
       "    </tr>\n",
       "    <tr>\n",
       "      <th>1</th>\n",
       "      <td>ZS</td>\n",
       "      <td>2 yrs exp</td>\n",
       "      <td>based on 15 salaries</td>\n",
       "      <td>₹ 15.3L</td>\n",
       "      <td>₹ 20.0L</td>\n",
       "      <td>₹ 9.5L</td>\n",
       "    </tr>\n",
       "    <tr>\n",
       "      <th>2</th>\n",
       "      <td>Optum</td>\n",
       "      <td>3-4 yrs exp</td>\n",
       "      <td>based on 25 salaries</td>\n",
       "      <td>₹ 15.1L</td>\n",
       "      <td>₹ 21.3L</td>\n",
       "      <td>₹ 11.0L</td>\n",
       "    </tr>\n",
       "    <tr>\n",
       "      <th>3</th>\n",
       "      <td>Fractal Analytics</td>\n",
       "      <td>2-4 yrs exp</td>\n",
       "      <td>based on 77 salaries</td>\n",
       "      <td>₹ 15.1L</td>\n",
       "      <td>₹ 22.0L</td>\n",
       "      <td>₹ 9.5L</td>\n",
       "    </tr>\n",
       "    <tr>\n",
       "      <th>4</th>\n",
       "      <td>Tiger Analytics</td>\n",
       "      <td>3-4 yrs exp</td>\n",
       "      <td>based on 33 salaries</td>\n",
       "      <td>₹ 14.4L</td>\n",
       "      <td>₹ 20.0L</td>\n",
       "      <td>₹ 8.3L</td>\n",
       "    </tr>\n",
       "    <tr>\n",
       "      <th>5</th>\n",
       "      <td>UnitedHealth</td>\n",
       "      <td>2-4 yrs exp</td>\n",
       "      <td>based on 52 salaries</td>\n",
       "      <td>₹ 13.9L</td>\n",
       "      <td>₹ 20.5L</td>\n",
       "      <td>₹ 8.3L</td>\n",
       "    </tr>\n",
       "    <tr>\n",
       "      <th>6</th>\n",
       "      <td>Verizon</td>\n",
       "      <td>4 yrs exp</td>\n",
       "      <td>based on 14 salaries</td>\n",
       "      <td>₹ 12.7L</td>\n",
       "      <td>₹ 21.0L</td>\n",
       "      <td>₹ 10.0L</td>\n",
       "    </tr>\n",
       "    <tr>\n",
       "      <th>7</th>\n",
       "      <td>Ganit Business Solutions</td>\n",
       "      <td>4 yrs exp</td>\n",
       "      <td>based on 13 salaries</td>\n",
       "      <td>₹ 12.4L</td>\n",
       "      <td>₹ 15.0L</td>\n",
       "      <td>₹ 8.5L</td>\n",
       "    </tr>\n",
       "    <tr>\n",
       "      <th>8</th>\n",
       "      <td>Ericsson</td>\n",
       "      <td>3-4 yrs exp</td>\n",
       "      <td>based on 43 salaries</td>\n",
       "      <td>₹ 11.9L</td>\n",
       "      <td>₹ 24.0L</td>\n",
       "      <td>₹ 5.8L</td>\n",
       "    </tr>\n",
       "    <tr>\n",
       "      <th>9</th>\n",
       "      <td>Deloitte</td>\n",
       "      <td>2-4 yrs exp</td>\n",
       "      <td>based on 57 salaries</td>\n",
       "      <td>₹ 11.7L</td>\n",
       "      <td>₹ 23.4L</td>\n",
       "      <td>₹ 6.9L</td>\n",
       "    </tr>\n",
       "  </tbody>\n",
       "</table>\n",
       "</div>"
      ],
      "text/plain": [
       "               Company Name Experience Required         Salary Record  \\\n",
       "0                  Ab Inbev         3-4 yrs exp  based on 28 salaries   \n",
       "1                        ZS           2 yrs exp  based on 15 salaries   \n",
       "2                     Optum         3-4 yrs exp  based on 25 salaries   \n",
       "3         Fractal Analytics         2-4 yrs exp  based on 77 salaries   \n",
       "4           Tiger Analytics         3-4 yrs exp  based on 33 salaries   \n",
       "5              UnitedHealth         2-4 yrs exp  based on 52 salaries   \n",
       "6                   Verizon           4 yrs exp  based on 14 salaries   \n",
       "7  Ganit Business Solutions           4 yrs exp  based on 13 salaries   \n",
       "8                  Ericsson         3-4 yrs exp  based on 43 salaries   \n",
       "9                  Deloitte         2-4 yrs exp  based on 57 salaries   \n",
       "\n",
       "  Average Salary Max Salary Min Salary  \n",
       "0        ₹ 20.3L    ₹ 25.5L    ₹ 15.0L  \n",
       "1        ₹ 15.3L    ₹ 20.0L     ₹ 9.5L  \n",
       "2        ₹ 15.1L    ₹ 21.3L    ₹ 11.0L  \n",
       "3        ₹ 15.1L    ₹ 22.0L     ₹ 9.5L  \n",
       "4        ₹ 14.4L    ₹ 20.0L     ₹ 8.3L  \n",
       "5        ₹ 13.9L    ₹ 20.5L     ₹ 8.3L  \n",
       "6        ₹ 12.7L    ₹ 21.0L    ₹ 10.0L  \n",
       "7        ₹ 12.4L    ₹ 15.0L     ₹ 8.5L  \n",
       "8        ₹ 11.9L    ₹ 24.0L     ₹ 5.8L  \n",
       "9        ₹ 11.7L    ₹ 23.4L     ₹ 6.9L  "
      ]
     },
     "execution_count": 14,
     "metadata": {},
     "output_type": "execute_result"
    }
   ],
   "source": [
    "#creating a dataframe\n",
    "ambition_box=pd.DataFrame()\n",
    "ambition_box['Company Name']=title[:10]\n",
    "ambition_box['Experience Required']=exp_reqd[:10]\n",
    "ambition_box['Salary Record']=salary_record[:10]\n",
    "ambition_box['Average Salary']=avg_sal[:10]\n",
    "ambition_box['Max Salary']=max_sal[:10]\n",
    "ambition_box['Min Salary']=min_sal[:10]\n",
    "ambition_box"
   ]
  },
  {
   "cell_type": "code",
   "execution_count": null,
   "id": "30f9668f",
   "metadata": {},
   "outputs": [],
   "source": []
  },
  {
   "cell_type": "code",
   "execution_count": null,
   "id": "c56c5504",
   "metadata": {},
   "outputs": [],
   "source": []
  },
  {
   "cell_type": "code",
   "execution_count": null,
   "id": "b77c8a6b",
   "metadata": {},
   "outputs": [],
   "source": []
  },
  {
   "cell_type": "code",
   "execution_count": null,
   "id": "05a066e5",
   "metadata": {},
   "outputs": [],
   "source": []
  },
  {
   "cell_type": "code",
   "execution_count": null,
   "id": "1f66d858",
   "metadata": {},
   "outputs": [],
   "source": []
  },
  {
   "cell_type": "code",
   "execution_count": null,
   "id": "6baac18f",
   "metadata": {},
   "outputs": [],
   "source": []
  },
  {
   "cell_type": "code",
   "execution_count": null,
   "id": "5fd5a87d",
   "metadata": {},
   "outputs": [],
   "source": []
  },
  {
   "cell_type": "code",
   "execution_count": null,
   "id": "de924437",
   "metadata": {},
   "outputs": [],
   "source": []
  },
  {
   "cell_type": "code",
   "execution_count": null,
   "id": "2931c78a",
   "metadata": {},
   "outputs": [],
   "source": []
  },
  {
   "cell_type": "code",
   "execution_count": null,
   "id": "5db76797",
   "metadata": {},
   "outputs": [],
   "source": []
  },
  {
   "cell_type": "code",
   "execution_count": null,
   "id": "06087b31",
   "metadata": {},
   "outputs": [],
   "source": []
  },
  {
   "cell_type": "code",
   "execution_count": null,
   "id": "86dee921",
   "metadata": {},
   "outputs": [],
   "source": []
  },
  {
   "cell_type": "code",
   "execution_count": null,
   "id": "b802d129",
   "metadata": {},
   "outputs": [],
   "source": []
  },
  {
   "cell_type": "code",
   "execution_count": null,
   "id": "d22cbcb2",
   "metadata": {},
   "outputs": [],
   "source": []
  },
  {
   "cell_type": "code",
   "execution_count": null,
   "id": "1b97459f",
   "metadata": {},
   "outputs": [],
   "source": []
  },
  {
   "cell_type": "code",
   "execution_count": null,
   "id": "65deec84",
   "metadata": {},
   "outputs": [],
   "source": []
  },
  {
   "cell_type": "code",
   "execution_count": null,
   "id": "d1c02297",
   "metadata": {},
   "outputs": [],
   "source": []
  },
  {
   "cell_type": "code",
   "execution_count": null,
   "id": "ebd5d017",
   "metadata": {},
   "outputs": [],
   "source": []
  },
  {
   "cell_type": "code",
   "execution_count": null,
   "id": "eb09e3f0",
   "metadata": {},
   "outputs": [],
   "source": []
  },
  {
   "cell_type": "code",
   "execution_count": null,
   "id": "bb456930",
   "metadata": {},
   "outputs": [],
   "source": []
  },
  {
   "cell_type": "code",
   "execution_count": null,
   "id": "a1afd856",
   "metadata": {},
   "outputs": [],
   "source": []
  },
  {
   "cell_type": "code",
   "execution_count": null,
   "id": "3a113078",
   "metadata": {},
   "outputs": [],
   "source": []
  },
  {
   "cell_type": "code",
   "execution_count": null,
   "id": "35fe6226",
   "metadata": {},
   "outputs": [],
   "source": []
  },
  {
   "cell_type": "code",
   "execution_count": null,
   "id": "272337b0",
   "metadata": {},
   "outputs": [],
   "source": []
  },
  {
   "cell_type": "code",
   "execution_count": null,
   "id": "c2cc1c81",
   "metadata": {},
   "outputs": [],
   "source": []
  },
  {
   "cell_type": "code",
   "execution_count": null,
   "id": "852d69d9",
   "metadata": {},
   "outputs": [],
   "source": []
  },
  {
   "cell_type": "code",
   "execution_count": null,
   "id": "61a57b59",
   "metadata": {},
   "outputs": [],
   "source": []
  },
  {
   "cell_type": "code",
   "execution_count": null,
   "id": "9a93f1b3",
   "metadata": {},
   "outputs": [],
   "source": []
  },
  {
   "cell_type": "code",
   "execution_count": null,
   "id": "d8bc7775",
   "metadata": {},
   "outputs": [],
   "source": []
  }
 ],
 "metadata": {
  "kernelspec": {
   "display_name": "Python 3",
   "language": "python",
   "name": "python3"
  },
  "language_info": {
   "codemirror_mode": {
    "name": "ipython",
    "version": 3
   },
   "file_extension": ".py",
   "mimetype": "text/x-python",
   "name": "python",
   "nbconvert_exporter": "python",
   "pygments_lexer": "ipython3",
   "version": "3.8.8"
  }
 },
 "nbformat": 4,
 "nbformat_minor": 5
}
