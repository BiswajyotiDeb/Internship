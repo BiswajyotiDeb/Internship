{
 "cells": [
  {
   "cell_type": "markdown",
   "id": "837ebbe4",
   "metadata": {},
   "source": [
    "# QUESTION-7"
   ]
  },
  {
   "cell_type": "code",
   "execution_count": 1,
   "id": "13e814c1",
   "metadata": {},
   "outputs": [],
   "source": [
    "#importing all required libraries\n",
    "from selenium import webdriver\n",
    "import pandas as pd\n",
    "import warnings\n",
    "warnings.filterwarnings('ignore')\n",
    "import time"
   ]
  },
  {
   "cell_type": "code",
   "execution_count": 2,
   "id": "48c3b35f",
   "metadata": {},
   "outputs": [],
   "source": [
    "#connect to web driver\n",
    "driver=webdriver.Chrome(r'C:/Users/BISWAJYOTI/Downloads/chromedriver_win32/chromedriver.exe')"
   ]
  },
  {
   "cell_type": "code",
   "execution_count": 3,
   "id": "fd6d0a4b",
   "metadata": {},
   "outputs": [],
   "source": [
    "url='http://www.myntra.com/shoes'\n",
    "driver.get(url)\n",
    "time.sleep(2)"
   ]
  },
  {
   "cell_type": "code",
   "execution_count": 4,
   "id": "5b27926f",
   "metadata": {},
   "outputs": [],
   "source": [
    "#Clicking filters by selecting check boxes using absolute x_path\n",
    "color_check=driver.find_element_by_xpath('/html/body/div[2]/div/div/main/div[3]/div[1]/section/div/div[6]/ul/li[1]/label/div')\n",
    "color_check.click()\n",
    "time.sleep(2)"
   ]
  },
  {
   "cell_type": "code",
   "execution_count": 5,
   "id": "bccf2c02",
   "metadata": {},
   "outputs": [],
   "source": [
    "#Clicking filters by selecting check boxes using absolute x_path\n",
    "price_check=driver.find_element_by_xpath('/html/body/div[2]/div/div[1]/main/div[3]/div[1]/section/div/div[5]/ul/li[2]/label/div')\n",
    "price_check.click()\n",
    "time.sleep(2)"
   ]
  },
  {
   "cell_type": "code",
   "execution_count": 6,
   "id": "209284e6",
   "metadata": {},
   "outputs": [],
   "source": [
    "# EXTRACTING BRAND,DESCRIPTION AND PRICE USING RELATIVE XPATH\n",
    "brand=[]\n",
    "description=[]  \n",
    "price=[]\n",
    "for i in range(2):\n",
    "    bd=driver.find_elements_by_xpath('//h3[@class=\"product-brand\"]')\n",
    "    for j in bd:\n",
    "        brand.append(j.text)\n",
    "    \n",
    "    desc=driver.find_elements_by_xpath('//div[@class=\"product-productMetaInfo\"]')\n",
    "    for j in desc:\n",
    "        description.append(j.text.strip().split('\\n')[1])\n",
    "    \n",
    "    pr=driver.find_elements_by_xpath('//div[@class=\"product-price\"]')\n",
    "    for j in pr:\n",
    "        price.append(j.text)\n",
    "    \n",
    "next_button=driver.find_element_by_xpath('/html/body/div[2]/div/div[1]/main/div[3]/div[2]/div/div[2]/section/div[2]/ul/li[12]/a')\n",
    "next_button.click()"
   ]
  },
  {
   "cell_type": "code",
   "execution_count": 7,
   "id": "5c2d280b",
   "metadata": {},
   "outputs": [
    {
     "data": {
      "text/plain": [
       "['Rs. 9099Rs. 12999(30% OFF)',\n",
       " 'Rs. 7995',\n",
       " 'Rs. 12999',\n",
       " 'Rs. 12999',\n",
       " 'Rs. 12999',\n",
       " 'Rs. 13999',\n",
       " 'Rs. 7649Rs. 8999(15% OFF)',\n",
       " 'Rs. 7739Rs. 8599(10% OFF)',\n",
       " 'Rs. 10995',\n",
       " 'Rs. 7999',\n",
       " 'Rs. 7999',\n",
       " 'Rs. 9499',\n",
       " 'Rs. 7999',\n",
       " 'Rs. 7224Rs. 8499(15% OFF)',\n",
       " 'Rs. 8499Rs. 9999(15% OFF)',\n",
       " 'Rs. 7999',\n",
       " 'Rs. 8499Rs. 9999(15% OFF)',\n",
       " 'Rs. 8499Rs. 9999(15% OFF)',\n",
       " 'Rs. 8990',\n",
       " 'Rs. 10500Rs. 10900(Rs. 400 OFF)',\n",
       " 'Rs. 8579Rs. 10999(22% OFF)',\n",
       " 'Rs. 8249Rs. 10999(25% OFF)',\n",
       " 'Rs. 8490',\n",
       " 'Rs. 9099Rs. 12999(30% OFF)',\n",
       " 'Rs. 8900',\n",
       " 'Rs. 8499Rs. 9999(15% OFF)',\n",
       " 'Rs. 9500',\n",
       " 'Rs. 8399Rs. 11999(30% OFF)',\n",
       " 'Rs. 7599',\n",
       " 'Rs. 12990',\n",
       " 'Rs. 7739Rs. 8599(10% OFF)',\n",
       " 'Rs. 9499',\n",
       " 'Rs. 7999',\n",
       " 'Rs. 8399Rs. 11999(30% OFF)',\n",
       " 'Rs. 8490',\n",
       " 'Rs. 7999',\n",
       " 'Rs. 7990',\n",
       " 'Rs. 7990',\n",
       " 'Rs. 8990',\n",
       " 'Rs. 8990',\n",
       " 'Rs. 7900',\n",
       " 'Rs. 8900',\n",
       " 'Rs. 9500',\n",
       " 'Rs. 8499',\n",
       " 'Rs. 8999',\n",
       " 'Rs. 8999',\n",
       " 'Rs. 7990',\n",
       " 'Rs. 7999',\n",
       " 'Rs. 7990',\n",
       " 'Rs. 8299',\n",
       " 'Rs. 9099Rs. 12999(30% OFF)',\n",
       " 'Rs. 7995',\n",
       " 'Rs. 12999',\n",
       " 'Rs. 12999',\n",
       " 'Rs. 12999',\n",
       " 'Rs. 13999',\n",
       " 'Rs. 7649Rs. 8999(15% OFF)',\n",
       " 'Rs. 7739Rs. 8599(10% OFF)',\n",
       " 'Rs. 10995',\n",
       " 'Rs. 7999',\n",
       " 'Rs. 7999',\n",
       " 'Rs. 9499',\n",
       " 'Rs. 7999',\n",
       " 'Rs. 7224Rs. 8499(15% OFF)',\n",
       " 'Rs. 8499Rs. 9999(15% OFF)',\n",
       " 'Rs. 7999',\n",
       " 'Rs. 8499Rs. 9999(15% OFF)',\n",
       " 'Rs. 8499Rs. 9999(15% OFF)',\n",
       " 'Rs. 8990',\n",
       " 'Rs. 10500Rs. 10900(Rs. 400 OFF)',\n",
       " 'Rs. 8579Rs. 10999(22% OFF)',\n",
       " 'Rs. 8249Rs. 10999(25% OFF)',\n",
       " 'Rs. 8490',\n",
       " 'Rs. 9099Rs. 12999(30% OFF)',\n",
       " 'Rs. 8900',\n",
       " 'Rs. 8499Rs. 9999(15% OFF)',\n",
       " 'Rs. 9500',\n",
       " 'Rs. 8399Rs. 11999(30% OFF)',\n",
       " 'Rs. 7599',\n",
       " 'Rs. 12990',\n",
       " 'Rs. 7739Rs. 8599(10% OFF)',\n",
       " 'Rs. 9499',\n",
       " 'Rs. 7999',\n",
       " 'Rs. 8399Rs. 11999(30% OFF)',\n",
       " 'Rs. 8490',\n",
       " 'Rs. 7999',\n",
       " 'Rs. 7990',\n",
       " 'Rs. 7990',\n",
       " 'Rs. 8990',\n",
       " 'Rs. 8990',\n",
       " 'Rs. 7900',\n",
       " 'Rs. 8900',\n",
       " 'Rs. 9500',\n",
       " 'Rs. 8499',\n",
       " 'Rs. 8999',\n",
       " 'Rs. 8999',\n",
       " 'Rs. 7990',\n",
       " 'Rs. 7999',\n",
       " 'Rs. 7990',\n",
       " 'Rs. 8299']"
      ]
     },
     "execution_count": 7,
     "metadata": {},
     "output_type": "execute_result"
    }
   ],
   "source": [
    "price"
   ]
  },
  {
   "cell_type": "code",
   "execution_count": 8,
   "id": "a0b99c09",
   "metadata": {},
   "outputs": [
    {
     "data": {
      "text/plain": [
       "['ALDO',\n",
       " 'Nike',\n",
       " 'Puma',\n",
       " 'ALDO',\n",
       " 'Puma',\n",
       " 'ALDO',\n",
       " 'Hush Puppies',\n",
       " 'Tommy Hilfiger',\n",
       " 'Nike',\n",
       " 'Puma',\n",
       " 'Puma',\n",
       " 'Bugatti',\n",
       " 'ASICS',\n",
       " 'Skechers',\n",
       " 'Hush Puppies',\n",
       " 'Reebok',\n",
       " 'Hush Puppies',\n",
       " 'Hush Puppies',\n",
       " 'MANGO',\n",
       " 'Saint G',\n",
       " 'TRIBAN By Decathlon',\n",
       " 'Puma',\n",
       " 'J.FONTINI',\n",
       " 'Puma',\n",
       " 'Sole To Soul',\n",
       " 'Hush Puppies',\n",
       " 'Saint G',\n",
       " 'Bugatti',\n",
       " 'Tommy Hilfiger',\n",
       " 'Heel & Buckle London',\n",
       " 'Tommy Hilfiger',\n",
       " 'Geox',\n",
       " 'ALDO',\n",
       " 'ALDO',\n",
       " 'J.FONTINI',\n",
       " 'ALDO',\n",
       " 'J.FONTINI',\n",
       " 'MANGO',\n",
       " 'DAVINCHI',\n",
       " 'DAVINCHI',\n",
       " 'Sole To Soul',\n",
       " 'Sole To Soul',\n",
       " 'Sole To Soul',\n",
       " 'ROSSO BRUNELLO',\n",
       " 'Bugatti',\n",
       " 'Geox',\n",
       " 'Heel & Buckle London',\n",
       " 'ROSSO BRUNELLO',\n",
       " 'DAVINCHI',\n",
       " 'fitflop',\n",
       " 'ALDO',\n",
       " 'Nike',\n",
       " 'Puma',\n",
       " 'ALDO',\n",
       " 'Puma',\n",
       " 'ALDO',\n",
       " 'Hush Puppies',\n",
       " 'Tommy Hilfiger',\n",
       " 'Nike',\n",
       " 'Puma',\n",
       " 'Puma',\n",
       " 'Bugatti',\n",
       " 'ASICS',\n",
       " 'Skechers',\n",
       " 'Hush Puppies',\n",
       " 'Reebok',\n",
       " 'Hush Puppies',\n",
       " 'Hush Puppies',\n",
       " 'MANGO',\n",
       " 'Saint G',\n",
       " 'TRIBAN By Decathlon',\n",
       " 'Puma',\n",
       " 'J.FONTINI',\n",
       " 'Puma',\n",
       " 'Sole To Soul',\n",
       " 'Hush Puppies',\n",
       " 'Saint G',\n",
       " 'Bugatti',\n",
       " 'Tommy Hilfiger',\n",
       " 'Heel & Buckle London',\n",
       " 'Tommy Hilfiger',\n",
       " 'Geox',\n",
       " 'ALDO',\n",
       " 'ALDO',\n",
       " 'J.FONTINI',\n",
       " 'ALDO',\n",
       " 'J.FONTINI',\n",
       " 'MANGO',\n",
       " 'DAVINCHI',\n",
       " 'DAVINCHI',\n",
       " 'Sole To Soul',\n",
       " 'Sole To Soul',\n",
       " 'Sole To Soul',\n",
       " 'ROSSO BRUNELLO',\n",
       " 'Bugatti',\n",
       " 'Geox',\n",
       " 'Heel & Buckle London',\n",
       " 'ROSSO BRUNELLO',\n",
       " 'DAVINCHI',\n",
       " 'fitflop']"
      ]
     },
     "execution_count": 8,
     "metadata": {},
     "output_type": "execute_result"
    }
   ],
   "source": [
    "brand"
   ]
  },
  {
   "cell_type": "code",
   "execution_count": 9,
   "id": "534addb6",
   "metadata": {},
   "outputs": [
    {
     "data": {
      "text/plain": [
       "(100, 100, 100)"
      ]
     },
     "execution_count": 9,
     "metadata": {},
     "output_type": "execute_result"
    }
   ],
   "source": [
    "len(brand),len(price),len(description)"
   ]
  },
  {
   "cell_type": "code",
   "execution_count": 10,
   "id": "ae62138f",
   "metadata": {},
   "outputs": [
    {
     "data": {
      "text/html": [
       "<div>\n",
       "<style scoped>\n",
       "    .dataframe tbody tr th:only-of-type {\n",
       "        vertical-align: middle;\n",
       "    }\n",
       "\n",
       "    .dataframe tbody tr th {\n",
       "        vertical-align: top;\n",
       "    }\n",
       "\n",
       "    .dataframe thead th {\n",
       "        text-align: right;\n",
       "    }\n",
       "</style>\n",
       "<table border=\"1\" class=\"dataframe\">\n",
       "  <thead>\n",
       "    <tr style=\"text-align: right;\">\n",
       "      <th></th>\n",
       "      <th>Brand</th>\n",
       "      <th>Price</th>\n",
       "      <th>Description</th>\n",
       "    </tr>\n",
       "  </thead>\n",
       "  <tbody>\n",
       "    <tr>\n",
       "      <th>0</th>\n",
       "      <td>ALDO</td>\n",
       "      <td>Rs. 9099Rs. 12999(30% OFF)</td>\n",
       "      <td>Men Printed Sneakers</td>\n",
       "    </tr>\n",
       "    <tr>\n",
       "      <th>1</th>\n",
       "      <td>Nike</td>\n",
       "      <td>Rs. 7995</td>\n",
       "      <td>Men Winflo 7 Running Shoes</td>\n",
       "    </tr>\n",
       "    <tr>\n",
       "      <th>2</th>\n",
       "      <td>Puma</td>\n",
       "      <td>Rs. 12999</td>\n",
       "      <td>Men Jamming 2.0 Running Shoes</td>\n",
       "    </tr>\n",
       "    <tr>\n",
       "      <th>3</th>\n",
       "      <td>ALDO</td>\n",
       "      <td>Rs. 12999</td>\n",
       "      <td>Men Leather Driving Shoes</td>\n",
       "    </tr>\n",
       "    <tr>\n",
       "      <th>4</th>\n",
       "      <td>Puma</td>\n",
       "      <td>Rs. 12999</td>\n",
       "      <td>Eternity Nitro Running Shoes</td>\n",
       "    </tr>\n",
       "    <tr>\n",
       "      <th>...</th>\n",
       "      <td>...</td>\n",
       "      <td>...</td>\n",
       "      <td>...</td>\n",
       "    </tr>\n",
       "    <tr>\n",
       "      <th>95</th>\n",
       "      <td>Geox</td>\n",
       "      <td>Rs. 8999</td>\n",
       "      <td>Women Leather Pumps</td>\n",
       "    </tr>\n",
       "    <tr>\n",
       "      <th>96</th>\n",
       "      <td>Heel &amp; Buckle London</td>\n",
       "      <td>Rs. 7990</td>\n",
       "      <td>Men Formal Leather Derby</td>\n",
       "    </tr>\n",
       "    <tr>\n",
       "      <th>97</th>\n",
       "      <td>ROSSO BRUNELLO</td>\n",
       "      <td>Rs. 7999</td>\n",
       "      <td>PU Block Pumps with Buckles</td>\n",
       "    </tr>\n",
       "    <tr>\n",
       "      <th>98</th>\n",
       "      <td>DAVINCHI</td>\n",
       "      <td>Rs. 7990</td>\n",
       "      <td>Solid Slip On Shoes</td>\n",
       "    </tr>\n",
       "    <tr>\n",
       "      <th>99</th>\n",
       "      <td>fitflop</td>\n",
       "      <td>Rs. 8299</td>\n",
       "      <td>Embellished Leather Flatform Sandals</td>\n",
       "    </tr>\n",
       "  </tbody>\n",
       "</table>\n",
       "<p>100 rows × 3 columns</p>\n",
       "</div>"
      ],
      "text/plain": [
       "                   Brand                       Price  \\\n",
       "0                   ALDO  Rs. 9099Rs. 12999(30% OFF)   \n",
       "1                   Nike                    Rs. 7995   \n",
       "2                   Puma                   Rs. 12999   \n",
       "3                   ALDO                   Rs. 12999   \n",
       "4                   Puma                   Rs. 12999   \n",
       "..                   ...                         ...   \n",
       "95                  Geox                    Rs. 8999   \n",
       "96  Heel & Buckle London                    Rs. 7990   \n",
       "97        ROSSO BRUNELLO                    Rs. 7999   \n",
       "98              DAVINCHI                    Rs. 7990   \n",
       "99               fitflop                    Rs. 8299   \n",
       "\n",
       "                             Description  \n",
       "0                   Men Printed Sneakers  \n",
       "1             Men Winflo 7 Running Shoes  \n",
       "2          Men Jamming 2.0 Running Shoes  \n",
       "3              Men Leather Driving Shoes  \n",
       "4           Eternity Nitro Running Shoes  \n",
       "..                                   ...  \n",
       "95                   Women Leather Pumps  \n",
       "96              Men Formal Leather Derby  \n",
       "97           PU Block Pumps with Buckles  \n",
       "98                   Solid Slip On Shoes  \n",
       "99  Embellished Leather Flatform Sandals  \n",
       "\n",
       "[100 rows x 3 columns]"
      ]
     },
     "execution_count": 10,
     "metadata": {},
     "output_type": "execute_result"
    }
   ],
   "source": [
    "#creating a dataframe\n",
    "myntra=pd.DataFrame()\n",
    "myntra['Brand']=brand\n",
    "myntra['Price']=price\n",
    "myntra['Description']=description\n",
    "myntra"
   ]
  },
  {
   "cell_type": "code",
   "execution_count": null,
   "id": "d0dc1dd7",
   "metadata": {},
   "outputs": [],
   "source": []
  },
  {
   "cell_type": "code",
   "execution_count": null,
   "id": "1019ba82",
   "metadata": {},
   "outputs": [],
   "source": []
  },
  {
   "cell_type": "code",
   "execution_count": null,
   "id": "73cd5350",
   "metadata": {},
   "outputs": [],
   "source": []
  },
  {
   "cell_type": "code",
   "execution_count": null,
   "id": "df9aaa75",
   "metadata": {},
   "outputs": [],
   "source": []
  },
  {
   "cell_type": "code",
   "execution_count": null,
   "id": "4f1ce13f",
   "metadata": {},
   "outputs": [],
   "source": []
  },
  {
   "cell_type": "code",
   "execution_count": null,
   "id": "01e35d56",
   "metadata": {},
   "outputs": [],
   "source": []
  },
  {
   "cell_type": "code",
   "execution_count": null,
   "id": "7a19adbe",
   "metadata": {},
   "outputs": [],
   "source": []
  },
  {
   "cell_type": "code",
   "execution_count": null,
   "id": "e1ddd986",
   "metadata": {},
   "outputs": [],
   "source": []
  },
  {
   "cell_type": "code",
   "execution_count": null,
   "id": "b0319072",
   "metadata": {},
   "outputs": [],
   "source": []
  },
  {
   "cell_type": "code",
   "execution_count": null,
   "id": "3d9fb1a8",
   "metadata": {},
   "outputs": [],
   "source": []
  },
  {
   "cell_type": "code",
   "execution_count": null,
   "id": "c846e082",
   "metadata": {},
   "outputs": [],
   "source": []
  },
  {
   "cell_type": "code",
   "execution_count": null,
   "id": "04d69cb5",
   "metadata": {},
   "outputs": [],
   "source": []
  },
  {
   "cell_type": "code",
   "execution_count": null,
   "id": "7a222f7f",
   "metadata": {},
   "outputs": [],
   "source": []
  },
  {
   "cell_type": "code",
   "execution_count": null,
   "id": "d4d21727",
   "metadata": {},
   "outputs": [],
   "source": []
  },
  {
   "cell_type": "code",
   "execution_count": null,
   "id": "ad03fc26",
   "metadata": {},
   "outputs": [],
   "source": []
  },
  {
   "cell_type": "code",
   "execution_count": null,
   "id": "05c50247",
   "metadata": {},
   "outputs": [],
   "source": []
  },
  {
   "cell_type": "code",
   "execution_count": null,
   "id": "63bdf53f",
   "metadata": {},
   "outputs": [],
   "source": []
  },
  {
   "cell_type": "code",
   "execution_count": null,
   "id": "79aee52d",
   "metadata": {},
   "outputs": [],
   "source": []
  },
  {
   "cell_type": "code",
   "execution_count": null,
   "id": "289509b0",
   "metadata": {},
   "outputs": [],
   "source": []
  },
  {
   "cell_type": "code",
   "execution_count": null,
   "id": "e8a354b1",
   "metadata": {},
   "outputs": [],
   "source": []
  },
  {
   "cell_type": "code",
   "execution_count": null,
   "id": "f554fb26",
   "metadata": {},
   "outputs": [],
   "source": []
  },
  {
   "cell_type": "code",
   "execution_count": null,
   "id": "7a2bbf8a",
   "metadata": {},
   "outputs": [],
   "source": []
  },
  {
   "cell_type": "code",
   "execution_count": null,
   "id": "442a4dc2",
   "metadata": {},
   "outputs": [],
   "source": []
  },
  {
   "cell_type": "code",
   "execution_count": null,
   "id": "26899873",
   "metadata": {},
   "outputs": [],
   "source": []
  },
  {
   "cell_type": "code",
   "execution_count": null,
   "id": "1cd1a8b6",
   "metadata": {},
   "outputs": [],
   "source": []
  },
  {
   "cell_type": "code",
   "execution_count": null,
   "id": "b240ee70",
   "metadata": {},
   "outputs": [],
   "source": []
  },
  {
   "cell_type": "code",
   "execution_count": null,
   "id": "26acae76",
   "metadata": {},
   "outputs": [],
   "source": []
  },
  {
   "cell_type": "code",
   "execution_count": null,
   "id": "a5c2561f",
   "metadata": {},
   "outputs": [],
   "source": []
  },
  {
   "cell_type": "code",
   "execution_count": null,
   "id": "8c42a936",
   "metadata": {},
   "outputs": [],
   "source": []
  },
  {
   "cell_type": "code",
   "execution_count": null,
   "id": "07354d60",
   "metadata": {},
   "outputs": [],
   "source": []
  },
  {
   "cell_type": "code",
   "execution_count": null,
   "id": "05aa9370",
   "metadata": {},
   "outputs": [],
   "source": []
  },
  {
   "cell_type": "code",
   "execution_count": null,
   "id": "b34dded3",
   "metadata": {},
   "outputs": [],
   "source": []
  },
  {
   "cell_type": "code",
   "execution_count": null,
   "id": "df7ba8e1",
   "metadata": {},
   "outputs": [],
   "source": []
  },
  {
   "cell_type": "code",
   "execution_count": null,
   "id": "240e72fa",
   "metadata": {},
   "outputs": [],
   "source": []
  },
  {
   "cell_type": "code",
   "execution_count": null,
   "id": "1bf7386a",
   "metadata": {},
   "outputs": [],
   "source": []
  },
  {
   "cell_type": "code",
   "execution_count": null,
   "id": "64db7b14",
   "metadata": {},
   "outputs": [],
   "source": []
  },
  {
   "cell_type": "code",
   "execution_count": null,
   "id": "6c724cae",
   "metadata": {},
   "outputs": [],
   "source": []
  },
  {
   "cell_type": "code",
   "execution_count": null,
   "id": "8f5596e9",
   "metadata": {},
   "outputs": [],
   "source": []
  },
  {
   "cell_type": "code",
   "execution_count": null,
   "id": "c5058b45",
   "metadata": {},
   "outputs": [],
   "source": []
  }
 ],
 "metadata": {
  "kernelspec": {
   "display_name": "Python 3",
   "language": "python",
   "name": "python3"
  },
  "language_info": {
   "codemirror_mode": {
    "name": "ipython",
    "version": 3
   },
   "file_extension": ".py",
   "mimetype": "text/x-python",
   "name": "python",
   "nbconvert_exporter": "python",
   "pygments_lexer": "ipython3",
   "version": "3.8.8"
  }
 },
 "nbformat": 4,
 "nbformat_minor": 5
}
